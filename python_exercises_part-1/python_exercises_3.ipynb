{
 "cells": [
  {
   "cell_type": "code",
   "execution_count": null,
   "metadata": {},
   "outputs": [],
   "source": [
    "## Write a Python program to get the ASCII value of a character."
   ]
  },
  {
   "cell_type": "code",
   "execution_count": 5,
   "metadata": {},
   "outputs": [
    {
     "name": "stdout",
     "output_type": "stream",
     "text": [
      "The original list :  ['gfg', 'is', 'best']\n",
      "The ascii list is : [103, 102, 103, 105, 115, 98, 101, 115, 116]\n"
     ]
    }
   ],
   "source": [
    "test_list = ['gfg', 'is', 'best'] \n",
    "  \n",
    "print(\"The original list : \" , test_list) \n",
    "  \n",
    "a = [] \n",
    "for i in test_list: \n",
    "    a.extend(ord(num) for num in i) \n",
    "  \n",
    "print(\"The ascii list is : \" + str(a)) "
   ]
  },
  {
   "cell_type": "code",
   "execution_count": null,
   "metadata": {},
   "outputs": [],
   "source": [
    "## Another_solve"
   ]
  },
  {
   "cell_type": "code",
   "execution_count": 9,
   "metadata": {},
   "outputs": [
    {
     "name": "stdout",
     "output_type": "stream",
     "text": [
      "\n",
      "97\n",
      "65\n",
      "49\n",
      "64\n",
      "111\n"
     ]
    }
   ],
   "source": [
    "print()\n",
    "print(ord('a'))\n",
    "print(ord('A'))\n",
    "print(ord('1'))\n",
    "print(ord('@'))\n",
    "print(ord('o'))"
   ]
  },
  {
   "cell_type": "code",
   "execution_count": null,
   "metadata": {},
   "outputs": [],
   "source": [
    "## Another_solve"
   ]
  },
  {
   "cell_type": "code",
   "execution_count": 13,
   "metadata": {},
   "outputs": [
    {
     "name": "stdout",
     "output_type": "stream",
     "text": [
      "\n",
      " [111, 114, 104, 97, 110]\n",
      "\n"
     ]
    }
   ],
   "source": [
    "for i in 'orhan':\n",
    "   [].append(ord(i))\n",
    "\n",
    "print('\\n',b)\n",
    "print()"
   ]
  },
  {
   "cell_type": "code",
   "execution_count": null,
   "metadata": {},
   "outputs": [],
   "source": [
    "## Write a Python program to get the size of a file."
   ]
  },
  {
   "cell_type": "code",
   "execution_count": 23,
   "metadata": {},
   "outputs": [
    {
     "name": "stdout",
     "output_type": "stream",
     "text": [
      "os.stat_result(st_mode=33206, st_ino=2251799813988080, st_dev=581701, st_nlink=1, st_uid=0, st_gid=0, st_size=0, st_atime=1591449359, st_mtime=1591429191, st_ctime=1591429191)\n",
      "\n",
      "File Size in Bytes is 0\n"
     ]
    }
   ],
   "source": [
    "import os\n",
    "\n",
    "file_name = \"C:/users/orhna/desktop/test.txt\"\n",
    "\n",
    "file_stats = os.stat(file_name)\n",
    "\n",
    "print(file_stats)\n",
    "print()\n",
    "print(f'File Size in Bytes is {file_stats.st_size}')\n"
   ]
  },
  {
   "cell_type": "code",
   "execution_count": null,
   "metadata": {},
   "outputs": [],
   "source": [
    "## Another_solve"
   ]
  },
  {
   "cell_type": "code",
   "execution_count": 25,
   "metadata": {},
   "outputs": [
    {
     "name": "stdout",
     "output_type": "stream",
     "text": [
      "\n",
      "The size of abc.txt is : 0 Bytes\n",
      "\n"
     ]
    }
   ],
   "source": [
    "import os\n",
    "file_size = os.path.getsize(\"C:/users/orhna/desktop/test.txt\")\n",
    "print(\"\\nThe size of abc.txt is :\",file_size,\"Bytes\")\n",
    "print()\n"
   ]
  },
  {
   "cell_type": "code",
   "execution_count": null,
   "metadata": {},
   "outputs": [],
   "source": [
    "## Given variables x=30 and y=20, write a Python program to print  \"30+20=50\""
   ]
  },
  {
   "cell_type": "code",
   "execution_count": 26,
   "metadata": {},
   "outputs": [
    {
     "name": "stdout",
     "output_type": "stream",
     "text": [
      " \"30 + 20 = 50\"\n"
     ]
    }
   ],
   "source": [
    "x = 30\n",
    "y = 20\n",
    "print(' \"30 + 20 = 50\"')"
   ]
  },
  {
   "cell_type": "code",
   "execution_count": null,
   "metadata": {},
   "outputs": [],
   "source": [
    "##Write a Python program to perform an action if a condition is true. \n",
    "##Given a variable name, if the value is 1, display the string \"First day of a Month!\" and do nothing if the value is not equal."
   ]
  },
  {
   "cell_type": "code",
   "execution_count": 33,
   "metadata": {},
   "outputs": [
    {
     "name": "stdin",
     "output_type": "stream",
     "text": [
      "input a variable 1\n"
     ]
    },
    {
     "name": "stdout",
     "output_type": "stream",
     "text": [
      "\n",
      "First day of a Month!\n",
      "\n"
     ]
    }
   ],
   "source": [
    "a = int(input(\"input a variable\"))\n",
    "\n",
    "if a == 1: \n",
    "    print(\"\\nFirst day of a Month!\\n\")\n"
   ]
  },
  {
   "cell_type": "code",
   "execution_count": null,
   "metadata": {},
   "outputs": [],
   "source": [
    "## Write a Python program to create a copy of its own source code"
   ]
  },
  {
   "cell_type": "code",
   "execution_count": 34,
   "metadata": {},
   "outputs": [
    {
     "name": "stdout",
     "output_type": "stream",
     "text": [
      "\n",
      "print(lambda str='print(lambda str=%r: (str %% str))()': (str % str))()\n",
      "\n"
     ]
    }
   ],
   "source": [
    "print()\n",
    "print((lambda str='print(lambda str=%r: (str %% str))()': (str % str))())\n",
    "print()\n"
   ]
  },
  {
   "cell_type": "code",
   "execution_count": null,
   "metadata": {},
   "outputs": [],
   "source": [
    "## Write a Python program to swap two variables"
   ]
  },
  {
   "cell_type": "code",
   "execution_count": 44,
   "metadata": {},
   "outputs": [
    {
     "name": "stdout",
     "output_type": "stream",
     "text": [
      "20 30\n"
     ]
    }
   ],
   "source": [
    "def swap(s1, s2):\n",
    "    return s2, s1\n",
    "\n",
    "s1 = '30'\n",
    "s2 = '20'\n",
    "s1, s2 = swap(s1, s2)\n",
    "print (s1, s2)"
   ]
  },
  {
   "cell_type": "code",
   "execution_count": null,
   "metadata": {},
   "outputs": [],
   "source": [
    "## Another_solve"
   ]
  },
  {
   "cell_type": "code",
   "execution_count": 37,
   "metadata": {},
   "outputs": [
    {
     "name": "stdout",
     "output_type": "stream",
     "text": [
      "\n",
      "Before swap a = 30 and b = 20\n",
      "\n",
      "After swaping a = 20 and b = 30\n",
      "\n"
     ]
    }
   ],
   "source": [
    "a = 30\n",
    "b = 20\n",
    "print(\"\\nBefore swap a = %d and b = %d\" %(a, b))\n",
    "a, b = b, a\n",
    "print(\"\\nAfter swaping a = %d and b = %d\" %(a, b))\n",
    "print()"
   ]
  },
  {
   "cell_type": "code",
   "execution_count": null,
   "metadata": {},
   "outputs": [],
   "source": [
    "## Write a Python program to define a string containing special characters in various forms"
   ]
  },
  {
   "cell_type": "code",
   "execution_count": 45,
   "metadata": {},
   "outputs": [
    {
     "name": "stdout",
     "output_type": "stream",
     "text": [
      "\n",
      "\\#{'}${\"}@/\n",
      "\\#{'}${\"}@/\n",
      "\\#{'}${\"}@/\n",
      "\\#{'}${\"}@/\n",
      "\\#{'}${\"}@/\n",
      "\\#{'}${\"}@/\n",
      "\n"
     ]
    }
   ],
   "source": [
    "print()\n",
    "print(\"\\#{'}${\\\"}@/\")\n",
    "print(\"\\#{'}${\"'\"'\"}@/\")\n",
    "print(r\"\"\"\\#{'}${\"}@/\"\"\")\n",
    "print('\\#{\\'}${\"}@/')\n",
    "print('\\#{'\"'\"'}${\"}@/')\n",
    "print(r'''\\#{'}${\"}@/''')\n",
    "print()\n"
   ]
  },
  {
   "cell_type": "code",
   "execution_count": null,
   "metadata": {},
   "outputs": [],
   "source": [
    "## Write a Python program to convert a byte string to a list of integers"
   ]
  },
  {
   "cell_type": "code",
   "execution_count": 56,
   "metadata": {},
   "outputs": [
    {
     "name": "stdout",
     "output_type": "stream",
     "text": [
      "\n",
      "[65, 98, 99]\n",
      "\n"
     ]
    }
   ],
   "source": [
    "x = b'Abc'\n",
    "print()\n",
    "print(list(x))\n",
    "print()\n"
   ]
  },
  {
   "cell_type": "code",
   "execution_count": null,
   "metadata": {},
   "outputs": [],
   "source": [
    "## Write a Python program to check whether a string is numeric"
   ]
  },
  {
   "cell_type": "code",
   "execution_count": 61,
   "metadata": {},
   "outputs": [
    {
     "data": {
      "text/plain": [
       "False"
      ]
     },
     "execution_count": 61,
     "metadata": {},
     "output_type": "execute_result"
    }
   ],
   "source": [
    "x = 'abc'\n",
    "x.isnumeric()"
   ]
  },
  {
   "cell_type": "code",
   "execution_count": null,
   "metadata": {},
   "outputs": [],
   "source": [
    "## Another_solved"
   ]
  },
  {
   "cell_type": "code",
   "execution_count": 64,
   "metadata": {},
   "outputs": [
    {
     "name": "stdout",
     "output_type": "stream",
     "text": [
      "\n",
      "Not numeric\n",
      "\n"
     ]
    }
   ],
   "source": [
    "str = 'a123'\n",
    "#str = '123'\n",
    "try:\n",
    "    i = float(str)\n",
    "except (ValueError, TypeError):\n",
    "    print('\\nNot numeric')\n",
    "print()\n"
   ]
  },
  {
   "cell_type": "code",
   "execution_count": null,
   "metadata": {},
   "outputs": [],
   "source": [
    "## Write a Python program to get the system time"
   ]
  },
  {
   "cell_type": "code",
   "execution_count": 71,
   "metadata": {},
   "outputs": [
    {
     "name": "stdout",
     "output_type": "stream",
     "text": [
      "\n",
      "Sat Jun  6 19:03:51 2020\n",
      "\n"
     ]
    }
   ],
   "source": [
    "import time\n",
    "print()\n",
    "print(time.ctime())\n",
    "print()"
   ]
  },
  {
   "cell_type": "code",
   "execution_count": null,
   "metadata": {},
   "outputs": [],
   "source": []
  },
  {
   "cell_type": "code",
   "execution_count": null,
   "metadata": {},
   "outputs": [],
   "source": []
  },
  {
   "cell_type": "code",
   "execution_count": null,
   "metadata": {},
   "outputs": [],
   "source": []
  },
  {
   "cell_type": "code",
   "execution_count": null,
   "metadata": {},
   "outputs": [],
   "source": []
  },
  {
   "cell_type": "code",
   "execution_count": null,
   "metadata": {},
   "outputs": [],
   "source": []
  },
  {
   "cell_type": "code",
   "execution_count": null,
   "metadata": {},
   "outputs": [],
   "source": []
  },
  {
   "cell_type": "code",
   "execution_count": null,
   "metadata": {},
   "outputs": [],
   "source": []
  },
  {
   "cell_type": "code",
   "execution_count": null,
   "metadata": {},
   "outputs": [],
   "source": []
  },
  {
   "cell_type": "code",
   "execution_count": null,
   "metadata": {},
   "outputs": [],
   "source": []
  },
  {
   "cell_type": "code",
   "execution_count": null,
   "metadata": {},
   "outputs": [],
   "source": []
  }
 ],
 "metadata": {
  "kernelspec": {
   "display_name": "Python 3",
   "language": "python",
   "name": "python3"
  },
  "language_info": {
   "codemirror_mode": {
    "name": "ipython",
    "version": 3
   },
   "file_extension": ".py",
   "mimetype": "text/x-python",
   "name": "python",
   "nbconvert_exporter": "python",
   "pygments_lexer": "ipython3",
   "version": "3.7.6"
  }
 },
 "nbformat": 4,
 "nbformat_minor": 4
}
