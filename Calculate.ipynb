{
 "cells": [
  {
   "cell_type": "markdown",
   "metadata": {},
   "source": [
    "# CALCULATOR\n",
    "## ariorhan"
   ]
  },
  {
   "cell_type": "code",
   "execution_count": 14,
   "metadata": {},
   "outputs": [
    {
     "name": "stdout",
     "output_type": "stream",
     "text": [
      "\"---HESAP MAKINESI---\n",
      "    1. Toplama\n",
      "    2. Cikarma\n",
      "    3. Carpma\n",
      "    4. Bolme\n",
      "    \n"
     ]
    },
    {
     "name": "stdin",
     "output_type": "stream",
     "text": [
      " Islem Seciniz =  3\n",
      " Birinci sayiyi giriniz =  3\n",
      " Ikinci sayiyi giriniz =  4\n"
     ]
    },
    {
     "name": "stdout",
     "output_type": "stream",
     "text": [
      " Carpma islemi sonucu =  12\n"
     ]
    }
   ],
   "source": [
    "print(\"\"\"\"---HESAP MAKINESI---\n",
    "    1. Toplama\n",
    "    2. Cikarma\n",
    "    3. Carpma\n",
    "    4. Bolme\n",
    "    \"\"\")\n",
    "\n",
    "def toplama(x,y):\n",
    "    return x + y\n",
    "\n",
    "def cikartma(x,y):\n",
    "    return x-y\n",
    "\n",
    "def bolme(x,y):\n",
    "    return x/y\n",
    "\n",
    "def carpma(x,y):\n",
    "    return x*y\n",
    "\n",
    "a = int(input(' Islem Seciniz = '))\n",
    "\n",
    "x = int(input(' Birinci sayiyi giriniz = '))\n",
    "y = int(input(' Ikinci sayiyi giriniz = '))\n",
    "\n",
    "if a==1:\n",
    "    print(' Toplama islemi sonucu = ', toplama(x,y) )\n",
    "    \n",
    "elif a==2:\n",
    "    print(' Cikarma islemi sonucu = ', cikartma(x,y) )\n",
    "    \n",
    "elif a==3:\n",
    "    print(' Carpma islemi sonucu = ', carpma(x,y) )\n",
    "\n",
    "elif a==4: \n",
    "    print(' Bolme islemi sonucu = ', bolme(x,y) )\n",
    "\n",
    "else: \n",
    "    print('**Yapilacak islemi yanlis sectiniz**')\n",
    "\n",
    "\n",
    "    \n",
    "\n"
   ]
  },
  {
   "cell_type": "code",
   "execution_count": null,
   "metadata": {},
   "outputs": [],
   "source": []
  },
  {
   "cell_type": "code",
   "execution_count": null,
   "metadata": {},
   "outputs": [],
   "source": []
  },
  {
   "cell_type": "code",
   "execution_count": null,
   "metadata": {},
   "outputs": [],
   "source": []
  },
  {
   "cell_type": "code",
   "execution_count": null,
   "metadata": {},
   "outputs": [],
   "source": []
  },
  {
   "cell_type": "code",
   "execution_count": null,
   "metadata": {},
   "outputs": [],
   "source": []
  }
 ],
 "metadata": {
  "kernelspec": {
   "display_name": "Python 3",
   "language": "python",
   "name": "python3"
  },
  "language_info": {
   "codemirror_mode": {
    "name": "ipython",
    "version": 3
   },
   "file_extension": ".py",
   "mimetype": "text/x-python",
   "name": "python",
   "nbconvert_exporter": "python",
   "pygments_lexer": "ipython3",
   "version": "3.7.6"
  }
 },
 "nbformat": 4,
 "nbformat_minor": 4
}
