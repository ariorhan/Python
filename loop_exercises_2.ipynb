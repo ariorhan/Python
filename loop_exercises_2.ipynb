{
 "cells": [
  {
   "cell_type": "code",
   "execution_count": null,
   "metadata": {},
   "outputs": [],
   "source": [
    "#Write a Python program to calculate a dog's age in dog's years.Note: For the first two years, a dog year is equal to 10.5 human years. After that, each dog year equals 4 human years."
   ]
  },
  {
   "cell_type": "code",
   "execution_count": 1,
   "metadata": {},
   "outputs": [],
   "source": [
    "import pandas as pd\n",
    "import numpy as np"
   ]
  },
  {
   "cell_type": "code",
   "execution_count": 5,
   "metadata": {},
   "outputs": [
    {
     "name": "stdin",
     "output_type": "stream",
     "text": [
      "input dog age = 4\n"
     ]
    },
    {
     "name": "stdout",
     "output_type": "stream",
     "text": [
      "The dogs age in dogs years is =  29\n"
     ]
    }
   ],
   "source": [
    "dog_a = int(input('input dog age ='))\n",
    "if dog_a <= 2:\n",
    "    print('The dogs age in dogs years is = ', int(dog_a*10.5))\n",
    "else:\n",
    "    print('The dogs age in dogs years is = ', (21+(dog_a-2)*4))"
   ]
  },
  {
   "cell_type": "code",
   "execution_count": null,
   "metadata": {},
   "outputs": [],
   "source": [
    "#Write a Python program to check whether an alphabet is a vowel or consonant"
   ]
  },
  {
   "cell_type": "code",
   "execution_count": 7,
   "metadata": {},
   "outputs": [
    {
     "name": "stdin",
     "output_type": "stream",
     "text": [
      "input a letter : g\n"
     ]
    },
    {
     "name": "stdout",
     "output_type": "stream",
     "text": [
      "g is consonant\n"
     ]
    }
   ],
   "source": [
    "a = input('input a letter :')\n",
    "if a  in ('a','e', 'u','i','o'):\n",
    "    print(a, 'is vowel')\n",
    "else:\n",
    "    print(a, 'is consonant')"
   ]
  },
  {
   "cell_type": "code",
   "execution_count": null,
   "metadata": {},
   "outputs": [],
   "source": [
    "#Write a Python program to convert month name to a number of days"
   ]
  },
  {
   "cell_type": "code",
   "execution_count": 12,
   "metadata": {},
   "outputs": [
    {
     "name": "stdin",
     "output_type": "stream",
     "text": [
      "Input the name of Month: aorha\n"
     ]
    },
    {
     "name": "stdout",
     "output_type": "stream",
     "text": [
      "wrong input\n"
     ]
    }
   ],
   "source": [
    "month = input('Input the name of Month:')\n",
    "if month in ('January','April','June', 'September','November'):\n",
    "    print(month, ' is 30 days')\n",
    "elif month=='February':\n",
    "    print('February is 28/29 days')\n",
    "elif month in (\"January\", \"March\", \"May\", \"July\", \"August\", \"October\", \"December\"):\n",
    "    print(month, ' is 31 days')\n",
    "else:\n",
    "    print('wrong input')\n",
    "    "
   ]
  },
  {
   "cell_type": "code",
   "execution_count": null,
   "metadata": {},
   "outputs": [],
   "source": [
    "# Write a Python program to sum of two given integers. However, if the sum is between 15 to 20 it will return 20"
   ]
  },
  {
   "cell_type": "code",
   "execution_count": 15,
   "metadata": {},
   "outputs": [
    {
     "name": "stdin",
     "output_type": "stream",
     "text": [
      "input first integer 6\n",
      "input second integer 10\n"
     ]
    },
    {
     "name": "stdout",
     "output_type": "stream",
     "text": [
      "6  +  10 = 20\n"
     ]
    }
   ],
   "source": [
    "a= int(input('input first integer'))\n",
    "b= int(input('input second integer'))\n",
    "if a+b<20 and a+b>15:\n",
    "    print(a,' + ',b,'=','20')\n",
    "else:\n",
    "    print(a,' + ',b,'=' ,a+b)"
   ]
  },
  {
   "cell_type": "code",
   "execution_count": 16,
   "metadata": {},
   "outputs": [
    {
     "name": "stdout",
     "output_type": "stream",
     "text": [
      "20\n",
      "12\n",
      "22\n"
     ]
    }
   ],
   "source": [
    "def sum(x, y):\n",
    "    sum = x + y\n",
    "    if sum in range(15, 20):\n",
    "        return 20\n",
    "    else:\n",
    "        return sum\n",
    "\n",
    "print(sum(10, 6))\n",
    "print(sum(10, 2))\n",
    "print(sum(10, 12))\n"
   ]
  },
  {
   "cell_type": "code",
   "execution_count": null,
   "metadata": {},
   "outputs": [],
   "source": [
    "# Write a Python program to check a string represent an integer or not."
   ]
  },
  {
   "cell_type": "code",
   "execution_count": 32,
   "metadata": {},
   "outputs": [
    {
     "name": "stdin",
     "output_type": "stream",
     "text": [
      "Input a string:  659\n"
     ]
    },
    {
     "name": "stdout",
     "output_type": "stream",
     "text": [
      "The string is an integer.\n"
     ]
    }
   ],
   "source": [
    "text = input(\"Input a string: \")\n",
    "text = text.strip()\n",
    "if len(text) < 1:\n",
    "    print(\"Input a valid text\")\n",
    "else:\n",
    "    if all(text[i] in \"0123456789\" for i in range(len(text))):\n",
    "        print(\"The string is an integer.\")\n",
    "    elif (text[0] in \"+-\") and \\\n",
    "         all(text[i] in \"0123456789\" for i in range(1,len(text))):\n",
    "         print(\"The string is an integer.\")\n",
    "    else:\n",
    "        print(\"The string is not an integer.\") \n"
   ]
  },
  {
   "cell_type": "code",
   "execution_count": null,
   "metadata": {},
   "outputs": [],
   "source": [
    "#  Write a Python program to check a triangle is equilateral, isosceles or scalene"
   ]
  },
  {
   "cell_type": "code",
   "execution_count": 35,
   "metadata": {},
   "outputs": [
    {
     "name": "stdin",
     "output_type": "stream",
     "text": [
      "input triangle first side 3\n",
      "input triangle second side 4\n",
      "input triangle third side 5\n"
     ]
    },
    {
     "name": "stdout",
     "output_type": "stream",
     "text": [
      "Triangle is scalene\n"
     ]
    }
   ],
   "source": [
    "x = int(input('input triangle first side'))\n",
    "y = int(input('input triangle second side'))\n",
    "z = int(input('input triangle third side'))\n",
    "if x==y==z:\n",
    "    print('Triangle is equilateral')\n",
    "elif x==y or x==z or z==x:\n",
    "    print('Triangle is isosceles')\n",
    "elif x!=y and y!=z:\n",
    "    print('Triangle is scalene')\n",
    "else:\n",
    "    print('wrong invalid')"
   ]
  },
  {
   "cell_type": "code",
   "execution_count": null,
   "metadata": {},
   "outputs": [],
   "source": [
    "# Write a Python program that reads two integers representing a month and day and prints the season for that month and day"
   ]
  },
  {
   "cell_type": "code",
   "execution_count": 4,
   "metadata": {},
   "outputs": [
    {
     "name": "stdin",
     "output_type": "stream",
     "text": [
      "input the day: 23\n",
      "input the month: June\n"
     ]
    },
    {
     "name": "stdout",
     "output_type": "stream",
     "text": [
      "Season is summer\n"
     ]
    }
   ],
   "source": [
    "day = int(input('input the day:'))\n",
    "month = input('input the month:')\n",
    "\n",
    "if day in range(1,32):\n",
    "    if month in ('December','January','February',):\n",
    "        print('Season is winter')\n",
    "    elif month in ('March','April','May'):\n",
    "        print('Season is spring')\n",
    "    elif month in ('June', 'July', 'August'):\n",
    "        print('Season is summer')\n",
    "    elif month in ('September','October','November'):\n",
    "        print('Season is autumn')\n",
    "    else:\n",
    "        print('wrong invalid')\n",
    "else:\n",
    "    print('please input day between 1-31')"
   ]
  },
  {
   "cell_type": "code",
   "execution_count": null,
   "metadata": {},
   "outputs": [],
   "source": [
    "#  Write a Python program to display astrological sign for given date of birth."
   ]
  },
  {
   "cell_type": "code",
   "execution_count": 5,
   "metadata": {},
   "outputs": [
    {
     "name": "stdin",
     "output_type": "stream",
     "text": [
      "Input birthday:  2\n",
      "Input month of birth (e.g. march, july etc):  august\n"
     ]
    },
    {
     "name": "stdout",
     "output_type": "stream",
     "text": [
      "Your Astrological sign is : Leo\n"
     ]
    }
   ],
   "source": [
    "day = int(input(\"Input birthday: \"))\n",
    "month = input(\"Input month of birth (e.g. march, july etc): \")\n",
    "if month == 'december':\n",
    "    astro_sign = 'Sagittarius' if (day < 22) else 'capricorn'\n",
    "elif month == 'january':\n",
    "    astro_sign = 'Capricorn' if (day < 20) else 'aquarius'\n",
    "elif month == 'february':\n",
    "    astro_sign = 'Aquarius' if (day < 19) else 'pisces'\n",
    "elif month == 'march':\n",
    "    astro_sign = 'Pisces' if (day < 21) else 'aries'\n",
    "elif month == 'april':\n",
    "    astro_sign = 'Aries' if (day < 20) else 'taurus'\n",
    "elif month == 'may':\n",
    "    astro_sign = 'Taurus' if (day < 21) else 'gemini'\n",
    "elif month == 'june':\n",
    "    astro_sign = 'Gemini' if (day < 21) else 'cancer'\n",
    "elif month == 'july':\n",
    "    astro_sign = 'Cancer' if (day < 23) else 'leo'\n",
    "elif month == 'august':\n",
    "    astro_sign = 'Leo' if (day < 23) else 'virgo'\n",
    "elif month == 'september':\n",
    "    astro_sign = 'Virgo' if (day < 23) else 'libra'\n",
    "elif month == 'october':\n",
    "    astro_sign = 'Libra' if (day < 23) else 'scorpio'\n",
    "elif month == 'november':\n",
    "    astro_sign = 'scorpio' if (day < 22) else 'sagittarius'\n",
    "print(\"Your Astrological sign is :\",astro_sign)\n"
   ]
  },
  {
   "cell_type": "code",
   "execution_count": null,
   "metadata": {},
   "outputs": [],
   "source": [
    "#Write a Python program to display the sign of the Chinese Zodiac for given year in which you were born"
   ]
  },
  {
   "cell_type": "code",
   "execution_count": 21,
   "metadata": {},
   "outputs": [
    {
     "name": "stdin",
     "output_type": "stream",
     "text": [
      "input birth year= 2020\n"
     ]
    },
    {
     "name": "stdout",
     "output_type": "stream",
     "text": [
      "Your Zodiac sign : Rat\n"
     ]
    }
   ],
   "source": [
    "b_date=int(input('input birth year='))\n",
    "\n",
    "if (b_date-2000) % 12 == 0:\n",
    "    print('Your Zodiac sign : Dragon')\n",
    "elif (b_date-2000) % 12 == 1:\n",
    "    print('Your Zodiac sign : Snake')\n",
    "elif (b_date-2000) % 12 == 2:\n",
    "    print('Your Zodiac sign : Horse')\n",
    "elif (b_date-2000) % 12 == 3:\n",
    "    print('Your Zodiac sign : Sheep')\n",
    "elif (b_date-2000) % 12 == 4:\n",
    "    print('Your Zodiac sign : Monkey')\n",
    "elif (b_date-2000) % 12 == 5:\n",
    "    print('Your Zodiac sign : Rooster')\n",
    "elif (b_date-2000) % 12 == 6:\n",
    "    print('Your Zodiac sign : Dog')\n",
    "elif (b_date - 2000) % 12 == 7:\n",
    "    print('Your Zodiac sign : Pig')\n",
    "elif (b_date - 2000) % 12 == 8:\n",
    "    print('Your Zodiac sign : Rat')\n",
    "elif (b_date-2000) % 12 == 9:\n",
    "    print('Your Zodiac sign : Ox')\n",
    "elif (b_date-2000) % 12 == 10:\n",
    "    print('Your Zodiac sign : Tiger')\n",
    "elif (b_date-2000) % 12 == 11:\n",
    "    print('Your Zodiac sign : Hare')"
   ]
  },
  {
   "cell_type": "code",
   "execution_count": null,
   "metadata": {},
   "outputs": [],
   "source": [
    "# Write a Python program to find the median of three values"
   ]
  },
  {
   "cell_type": "code",
   "execution_count": 35,
   "metadata": {},
   "outputs": [
    {
     "name": "stdout",
     "output_type": "stream",
     "text": [
      "input three values\n"
     ]
    },
    {
     "name": "stdin",
     "output_type": "stream",
     "text": [
      "x = 25\n",
      "y = 55\n",
      "z = 65\n"
     ]
    },
    {
     "name": "stdout",
     "output_type": "stream",
     "text": [
      "median= 55\n"
     ]
    }
   ],
   "source": [
    "print('input three values')\n",
    "x = int(input('x ='))\n",
    "y = int(input('y ='))\n",
    "z = int(input('z ='))\n",
    "\n",
    "if x<y<z or z<y<x:\n",
    "    print('median=',y)\n",
    "elif y<z<x or x<z<y: \n",
    "    print('median=',z)\n",
    "elif z<x<y or y<x<z:\n",
    "    print('median=',x)\n",
    "\n"
   ]
  },
  {
   "cell_type": "code",
   "execution_count": null,
   "metadata": {},
   "outputs": [],
   "source": [
    "#Write a Python program to get next day of a given date"
   ]
  },
  {
   "cell_type": "code",
   "execution_count": 38,
   "metadata": {},
   "outputs": [
    {
     "name": "stdin",
     "output_type": "stream",
     "text": [
      "Input a year:  2000\n",
      "Input a month [1-12]:  12\n",
      "Input a day [1-31]:  31\n"
     ]
    },
    {
     "name": "stdout",
     "output_type": "stream",
     "text": [
      "The next date is [yyyy-mm-dd] 2001-1-1.\n"
     ]
    }
   ],
   "source": [
    "year = int(input(\"Input a year: \"))\n",
    "\n",
    "if (year % 400 == 0):\n",
    "    leap_year = True\n",
    "elif (year % 100 == 0):\n",
    "    leap_year = False\n",
    "elif (year % 4 == 0):\n",
    "    leap_year = True\n",
    "else:\n",
    "    leap_year = False\n",
    "\n",
    "month = int(input(\"Input a month [1-12]: \"))\n",
    "\n",
    "if month in (1, 3, 5, 7, 8, 10, 12):\n",
    "    month_length = 31\n",
    "elif month == 2:\n",
    "    if leap_year:\n",
    "        month_length = 29\n",
    "    else:\n",
    "        month_length = 28\n",
    "else:\n",
    "    month_length = 30\n",
    "\n",
    "\n",
    "day = int(input(\"Input a day [1-31]: \"))\n",
    "\n",
    "if day < month_length:\n",
    "    day += 1\n",
    "else:\n",
    "    day = 1\n",
    "    if month == 12:\n",
    "        month = 1\n",
    "        year += 1\n",
    "    else:\n",
    "        month += 1\n",
    "print(\"The next date is [yyyy-mm-dd] %d-%d-%d.\" % (year, month, day))\n"
   ]
  },
  {
   "cell_type": "code",
   "execution_count": null,
   "metadata": {},
   "outputs": [],
   "source": [
    "#Write a Python program to calculate the sum and average of n integer numbers (input from the user). Input 0 to finish."
   ]
  },
  {
   "cell_type": "code",
   "execution_count": 46,
   "metadata": {},
   "outputs": [
    {
     "name": "stdout",
     "output_type": "stream",
     "text": [
      "Input some integers to calculate their sum and average. Input 0 to exit.\n"
     ]
    },
    {
     "name": "stdin",
     "output_type": "stream",
     "text": [
      " 4\n",
      " 5\n",
      " 6\n",
      " 0\n"
     ]
    },
    {
     "name": "stdout",
     "output_type": "stream",
     "text": [
      "Average and Sum of the above numbers are:  5.0 15.0\n"
     ]
    }
   ],
   "source": [
    "print(\"Input some integers to calculate their sum and average. Input 0 to exit.\")\n",
    "\n",
    "count = 0\n",
    "sum = 0.0\n",
    "number = 1\n",
    "\n",
    "while number != 0:\n",
    "    number = int(input(\"\"))\n",
    "    sum = sum + number\n",
    "    count += 1\n",
    "\n",
    "if count == 0:\n",
    "    print(\"Input some numbers\")\n",
    "else:\n",
    "    print(\"Average and Sum of the above numbers are: \", sum / (count-1), sum)\n"
   ]
  },
  {
   "cell_type": "code",
   "execution_count": null,
   "metadata": {},
   "outputs": [],
   "source": [
    "# Write a Python program to create the multiplication table (from 1 to 10) of a number."
   ]
  },
  {
   "cell_type": "code",
   "execution_count": 48,
   "metadata": {},
   "outputs": [
    {
     "name": "stdin",
     "output_type": "stream",
     "text": [
      "input a number = 6\n"
     ]
    },
    {
     "name": "stdout",
     "output_type": "stream",
     "text": [
      "6 x 1 = 6\n",
      "6 x 2 = 12\n",
      "6 x 3 = 18\n",
      "6 x 4 = 24\n",
      "6 x 5 = 30\n",
      "6 x 6 = 36\n",
      "6 x 7 = 42\n",
      "6 x 8 = 48\n",
      "6 x 9 = 54\n",
      "6 x 10 = 60\n"
     ]
    }
   ],
   "source": [
    "a = int(input('input a number ='))\n",
    "for i in range(1,11):\n",
    "    b = i*a\n",
    "    print(a , 'x', i, '=', b)"
   ]
  },
  {
   "cell_type": "code",
   "execution_count": null,
   "metadata": {},
   "outputs": [],
   "source": [
    "# Write a Python program to construct the following pattern, using a nested loop number. "
   ]
  },
  {
   "cell_type": "code",
   "execution_count": 60,
   "metadata": {},
   "outputs": [
    {
     "name": "stdout",
     "output_type": "stream",
     "text": [
      "1\n",
      "22\n",
      "333\n",
      "4444\n",
      "55555\n",
      "666666\n",
      "7777777\n",
      "88888888\n",
      "999999999\n"
     ]
    }
   ],
   "source": [
    "a=0\n",
    "for i in range(1,10):\n",
    "    a+=1\n",
    "    print(str(a)*a)"
   ]
  },
  {
   "cell_type": "code",
   "execution_count": null,
   "metadata": {},
   "outputs": [],
   "source": []
  },
  {
   "cell_type": "code",
   "execution_count": null,
   "metadata": {},
   "outputs": [],
   "source": []
  },
  {
   "cell_type": "code",
   "execution_count": null,
   "metadata": {},
   "outputs": [],
   "source": []
  }
 ],
 "metadata": {
  "kernelspec": {
   "display_name": "Python 3",
   "language": "python",
   "name": "python3"
  },
  "language_info": {
   "codemirror_mode": {
    "name": "ipython",
    "version": 3
   },
   "file_extension": ".py",
   "mimetype": "text/x-python",
   "name": "python",
   "nbconvert_exporter": "python",
   "pygments_lexer": "ipython3",
   "version": "3.7.6"
  }
 },
 "nbformat": 4,
 "nbformat_minor": 4
}
