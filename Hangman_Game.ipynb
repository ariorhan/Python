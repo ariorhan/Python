{
 "cells": [
  {
   "cell_type": "markdown",
   "metadata": {},
   "source": [
    "## Hangman Game"
   ]
  },
  {
   "cell_type": "code",
   "execution_count": null,
   "metadata": {},
   "outputs": [
    {
     "name": "stdout",
     "output_type": "stream",
     "text": [
      "\n",
      "Welcome to Hangman game \n"
     ]
    },
    {
     "name": "stdin",
     "output_type": "stream",
     "text": [
      "Enter your name:  orhan\n"
     ]
    },
    {
     "name": "stdout",
     "output_type": "stream",
     "text": [
      "Hello orhan! Best of Luck!\n",
      "The game is about to start!\n",
      " Let's play Hangman!\n"
     ]
    },
    {
     "name": "stdin",
     "output_type": "stream",
     "text": [
      "This is the Hangman Word: ____ Enter your guess: \n",
      " a\n"
     ]
    },
    {
     "name": "stdout",
     "output_type": "stream",
     "text": [
      "   _____ \n",
      "  |      \n",
      "  |      \n",
      "  |      \n",
      "  |      \n",
      "  |      \n",
      "  |      \n",
      "__|__\n",
      "\n",
      "Wrong guess. 4 guesses remaining\n",
      "\n"
     ]
    },
    {
     "name": "stdin",
     "output_type": "stream",
     "text": [
      "This is the Hangman Word: ____ Enter your guess: \n",
      " i\n"
     ]
    },
    {
     "name": "stdout",
     "output_type": "stream",
     "text": [
      "_i__\n",
      "\n"
     ]
    },
    {
     "name": "stdin",
     "output_type": "stream",
     "text": [
      "This is the Hangman Word: _i__ Enter your guess: \n",
      " k\n"
     ]
    },
    {
     "name": "stdout",
     "output_type": "stream",
     "text": [
      "   _____ \n",
      "  |     | \n",
      "  |     |\n",
      "  |      \n",
      "  |      \n",
      "  |      \n",
      "  |      \n",
      "__|__\n",
      "\n",
      "Wrong guess. 3 guesses remaining\n",
      "\n"
     ]
    },
    {
     "name": "stdin",
     "output_type": "stream",
     "text": [
      "This is the Hangman Word: _i__ Enter your guess: \n",
      " a\n"
     ]
    },
    {
     "name": "stdout",
     "output_type": "stream",
     "text": [
      "   _____ \n",
      "  |     | \n",
      "  |     |\n",
      "  |     | \n",
      "  |      \n",
      "  |      \n",
      "  |      \n",
      "__|__\n",
      "\n",
      "Wrong guess. 2 guesses remaining\n",
      "\n"
     ]
    },
    {
     "name": "stdin",
     "output_type": "stream",
     "text": [
      "This is the Hangman Word: _i__ Enter your guess: \n",
      " q\n"
     ]
    },
    {
     "name": "stdout",
     "output_type": "stream",
     "text": [
      "   _____ \n",
      "  |     | \n",
      "  |     |\n",
      "  |     | \n",
      "  |     O \n",
      "  |      \n",
      "  |      \n",
      "__|__\n",
      "\n",
      "Wrong guess. 1 last guess remaining\n",
      "\n"
     ]
    },
    {
     "name": "stdin",
     "output_type": "stream",
     "text": [
      "This is the Hangman Word: _i__ Enter your guess: \n",
      " l\n"
     ]
    },
    {
     "name": "stdout",
     "output_type": "stream",
     "text": [
      "_il_\n",
      "\n"
     ]
    },
    {
     "name": "stdin",
     "output_type": "stream",
     "text": [
      "This is the Hangman Word: _il_ Enter your guess: \n",
      " s\n"
     ]
    },
    {
     "name": "stdout",
     "output_type": "stream",
     "text": [
      "   _____ \n",
      "  |     | \n",
      "  |     |\n",
      "  |     | \n",
      "  |     O \n",
      "  |    /|\\ \n",
      "  |    / \\ \n",
      "__|__\n",
      "\n",
      "Wrong guess. You are hanged!!!\n",
      "\n",
      "The word was: ['i', 'l'] f__m\n"
     ]
    }
   ],
   "source": [
    "import random\n",
    "import time\n",
    "\n",
    "# Initial Steps to invite in the game:\n",
    "print(\"\\nWelcome to Hangman game \")\n",
    "name = input(\"Enter your name: \")\n",
    "print(\"Hello \" + name + \"! Best of Luck!\")\n",
    "time.sleep(2)\n",
    "print(\"The game is about to start!\\n Let's play Hangman!\")\n",
    "time.sleep(3)\n",
    "\n",
    "def main():\n",
    "    global count\n",
    "    global display\n",
    "    global word\n",
    "    global already_guessed\n",
    "    global length\n",
    "    \n",
    "    words_to_guess = [\"january\",\"border\",\"image\",\"film\",\"promise\",\"kids\",\"lungs\",\"doll\",\"rhyme\",\"damage\",\"plants\"]\n",
    "    word = random.choice(words_to_guess)\n",
    "    length = len(word)\n",
    "    count = 0\n",
    "    display = '_' * length\n",
    "    already_guessed = []\n",
    "    play_game = \"\"\n",
    "    \n",
    "# A loop to re-execute the game when the first round ends:\n",
    "\n",
    "def play_loop():\n",
    "    \n",
    "    play_game = input(\"Do You want to play again? y = yes, n = no \\n\")\n",
    "    \n",
    "    while play_game not in [\"y\", \"n\",\"Y\",\"N\"]:\n",
    "        play_game = input(\"Do You want to play again? y = yes, n = no \\n\")\n",
    "        \n",
    "    if play_game == \"y\":\n",
    "        main()\n",
    "        \n",
    "    elif play_game == \"n\":\n",
    "        print(\"Thanks For Playing! We expect you back again!\")\n",
    "        exit()\n",
    "        \n",
    "# Initializing all the conditions required for the game:\n",
    "def hangman():\n",
    "    global count\n",
    "    global display\n",
    "    global word\n",
    "    global already_guessed\n",
    "    global play_game\n",
    "    limit = 5\n",
    "    guess = input(\"This is the Hangman Word: \" + display + \" Enter your guess: \\n\")\n",
    "    guess = guess.strip()\n",
    "    if len(guess.strip()) == 0 or len(guess.strip()) >= 2 or guess <= \"9\":\n",
    "        print(\"Invalid Input, Try a letter\\n\")\n",
    "        hangman()\n",
    "        \n",
    "    elif guess in word:\n",
    "        already_guessed.extend([guess])\n",
    "        index = word.find(guess)\n",
    "        word = word[:index] + \"_\" + word[index + 1:]\n",
    "        display = display[:index] + guess + display[index + 1:]\n",
    "        print(display + \"\\n\")\n",
    "\n",
    "    elif guess in already_guessed:\n",
    "        print(\"Try another letter.\\n\")\n",
    "\n",
    "    else:\n",
    "        count += 1\n",
    "\n",
    "        if count == 1:\n",
    "            time.sleep(1)\n",
    "            print(\"   _____ \\n\"\n",
    "                  \"  |      \\n\"\n",
    "                  \"  |      \\n\"\n",
    "                  \"  |      \\n\"\n",
    "                  \"  |      \\n\"\n",
    "                  \"  |      \\n\"\n",
    "                  \"  |      \\n\"\n",
    "                  \"__|__\\n\")\n",
    "            print(\"Wrong guess. \" + str(limit - count) + \" guesses remaining\\n\")\n",
    "\n",
    "        elif count == 2:\n",
    "            time.sleep(1)\n",
    "            print(\"   _____ \\n\"\n",
    "                  \"  |     | \\n\"\n",
    "                  \"  |     |\\n\"\n",
    "                  \"  |      \\n\"\n",
    "                  \"  |      \\n\"\n",
    "                  \"  |      \\n\"\n",
    "                  \"  |      \\n\"\n",
    "                  \"__|__\\n\")\n",
    "            print(\"Wrong guess. \" + str(limit - count) + \" guesses remaining\\n\")\n",
    "\n",
    "        elif count == 3:\n",
    "           time.sleep(1)\n",
    "           print(\"   _____ \\n\"\n",
    "                 \"  |     | \\n\"\n",
    "                 \"  |     |\\n\"\n",
    "                 \"  |     | \\n\"\n",
    "                 \"  |      \\n\"\n",
    "                 \"  |      \\n\"\n",
    "                 \"  |      \\n\"\n",
    "                 \"__|__\\n\")\n",
    "           print(\"Wrong guess. \" + str(limit - count) + \" guesses remaining\\n\")\n",
    "\n",
    "        elif count == 4:\n",
    "            time.sleep(1)\n",
    "            print(\"   _____ \\n\"\n",
    "                  \"  |     | \\n\"\n",
    "                  \"  |     |\\n\"\n",
    "                  \"  |     | \\n\"\n",
    "                  \"  |     O \\n\"\n",
    "                  \"  |      \\n\"\n",
    "                  \"  |      \\n\"\n",
    "                  \"__|__\\n\")\n",
    "            print(\"Wrong guess. \" + str(limit - count) + \" last guess remaining\\n\")\n",
    "\n",
    "        elif count == 5:\n",
    "            time.sleep(1)\n",
    "            print(\"   _____ \\n\"\n",
    "                  \"  |     | \\n\"\n",
    "                  \"  |     |\\n\"\n",
    "                  \"  |     | \\n\"\n",
    "                  \"  |     O \\n\"\n",
    "                  \"  |    /|\\ \\n\"\n",
    "                  \"  |    / \\ \\n\"\n",
    "                  \"__|__\\n\")\n",
    "            print(\"Wrong guess. You are hanged!!!\\n\")\n",
    "            print(\"The word was:\",already_guessed,word)\n",
    "            play_loop()\n",
    "\n",
    "    if word == '_' * length:\n",
    "        print(\"Congrats! You have guessed the word correctly!\")\n",
    "        play_loop()\n",
    "\n",
    "    elif count != limit:\n",
    "        hangman()\n",
    "\n",
    "\n",
    "main()\n",
    "\n",
    "hangman()"
   ]
  },
  {
   "cell_type": "code",
   "execution_count": 5,
   "metadata": {},
   "outputs": [],
   "source": []
  },
  {
   "cell_type": "code",
   "execution_count": null,
   "metadata": {},
   "outputs": [],
   "source": []
  }
 ],
 "metadata": {
  "kernelspec": {
   "display_name": "Python 3",
   "language": "python",
   "name": "python3"
  },
  "language_info": {
   "codemirror_mode": {
    "name": "ipython",
    "version": 3
   },
   "file_extension": ".py",
   "mimetype": "text/x-python",
   "name": "python",
   "nbconvert_exporter": "python",
   "pygments_lexer": "ipython3",
   "version": "3.7.6"
  }
 },
 "nbformat": 4,
 "nbformat_minor": 4
}
