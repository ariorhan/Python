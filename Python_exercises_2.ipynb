{
 "cells": [
  {
   "cell_type": "code",
   "execution_count": null,
   "metadata": {},
   "outputs": [],
   "source": [
    "## Write a python program to find the sum of the first n positive integers."
   ]
  },
  {
   "cell_type": "code",
   "execution_count": 26,
   "metadata": {},
   "outputs": [],
   "source": [
    "import numpy as np\n",
    "import pandas as pd\n"
   ]
  },
  {
   "cell_type": "code",
   "execution_count": 27,
   "metadata": {},
   "outputs": [
    {
     "name": "stdin",
     "output_type": "stream",
     "text": [
      "Input a number:  49\n"
     ]
    },
    {
     "name": "stdout",
     "output_type": "stream",
     "text": [
      "1225.0\n"
     ]
    }
   ],
   "source": [
    "n = int(input(\"Input a number: \"))\n",
    "sum_num = (n * (n + 1)) / 2\n",
    "print(sum_num)"
   ]
  },
  {
   "cell_type": "code",
   "execution_count": null,
   "metadata": {},
   "outputs": [],
   "source": []
  },
  {
   "cell_type": "code",
   "execution_count": null,
   "metadata": {},
   "outputs": [],
   "source": [
    "## convert inch, yard to cm"
   ]
  },
  {
   "cell_type": "code",
   "execution_count": 33,
   "metadata": {},
   "outputs": [
    {
     "name": "stdin",
     "output_type": "stream",
     "text": [
      "Input values: 5\n"
     ]
    },
    {
     "name": "stdout",
     "output_type": "stream",
     "text": [
      "5 inch = 12.7 cm\n",
      "5 yard = 457.2 cm\n"
     ]
    }
   ],
   "source": [
    "a = int(input('Input values:'))\n",
    "print(a, 'inch =', a * 2.54, 'cm')\n",
    "print(a, 'yard =', a * 91.44, 'cm')"
   ]
  },
  {
   "cell_type": "code",
   "execution_count": null,
   "metadata": {},
   "outputs": [],
   "source": [
    "## Write a Python program to convert height (in feet and inches) to centimeters."
   ]
  },
  {
   "cell_type": "code",
   "execution_count": 35,
   "metadata": {},
   "outputs": [
    {
     "name": "stdout",
     "output_type": "stream",
     "text": [
      "Input your height: \n"
     ]
    },
    {
     "name": "stdin",
     "output_type": "stream",
     "text": [
      "Feet:  5\n",
      "Inches:  6\n"
     ]
    },
    {
     "name": "stdout",
     "output_type": "stream",
     "text": [
      "Your height is : 152 cm.\n"
     ]
    }
   ],
   "source": [
    "print(\"Input your height: \")\n",
    "h_ft = int(input(\"Feet: \"))\n",
    "h_inch = int(input(\"Inches: \"))\n",
    "\n",
    "h_inch = h_ft * 12\n",
    "h_cm = round(h_inch * 2.54, 1)\n",
    "\n",
    "print(\"Your height is : %d cm.\" % h_cm)\n"
   ]
  },
  {
   "cell_type": "code",
   "execution_count": null,
   "metadata": {},
   "outputs": [],
   "source": [
    "## Write a Python program to calculate the hypotenuse of a right angled triangle"
   ]
  },
  {
   "cell_type": "code",
   "execution_count": 38,
   "metadata": {},
   "outputs": [
    {
     "name": "stdin",
     "output_type": "stream",
     "text": [
      "input short sides 3\n",
      "input long sides 4\n"
     ]
    },
    {
     "name": "stdout",
     "output_type": "stream",
     "text": [
      "Hypotenuse = 5.0\n"
     ]
    }
   ],
   "source": [
    "import math\n",
    "a = int(input('input short sides'))\n",
    "b = int(input('input long sides'))\n",
    "c = math.sqrt(a**2 + b**2)\n",
    "print('Hypotenuse =', c)"
   ]
  },
  {
   "cell_type": "code",
   "execution_count": null,
   "metadata": {},
   "outputs": [],
   "source": []
  },
  {
   "cell_type": "code",
   "execution_count": null,
   "metadata": {},
   "outputs": [],
   "source": [
    "## Write a Python program to convert the distance (in feet) to inches, yards, and miles"
   ]
  },
  {
   "cell_type": "code",
   "execution_count": 46,
   "metadata": {},
   "outputs": [
    {
     "name": "stdin",
     "output_type": "stream",
     "text": [
      "Feet:  1\n"
     ]
    },
    {
     "name": "stdout",
     "output_type": "stream",
     "text": [
      "1 feet =  12 inch\n",
      "1 feet =  0.333 yard\n",
      "1 feet =  0.0001893 mile\n"
     ]
    }
   ],
   "source": [
    "ft = int(input(\"Feet: \"))\n",
    "print(ft, 'feet = ', 12*ft, 'inch' )\n",
    "      \n",
    "print(ft, 'feet = ', 0.333*ft, 'yard')\n",
    "\n",
    "print(ft, 'feet = ', 0.0001893*ft, 'mile')"
   ]
  },
  {
   "cell_type": "code",
   "execution_count": null,
   "metadata": {},
   "outputs": [],
   "source": [
    "## Write a Python program to convert all units of time into seconds."
   ]
  },
  {
   "cell_type": "code",
   "execution_count": 49,
   "metadata": {},
   "outputs": [
    {
     "name": "stdin",
     "output_type": "stream",
     "text": [
      "input hour 1\n",
      "input minutes 1\n",
      "input seconds 1\n"
     ]
    },
    {
     "name": "stdout",
     "output_type": "stream",
     "text": [
      "1 hours 1 minutes 1 seconds =  3661 seconds\n"
     ]
    }
   ],
   "source": [
    "h = int(input('input hour'))\n",
    "m = int(input('input minutes'))\n",
    "s = int(input('input seconds'))\n",
    "t = s + m*60 + h*3600\n",
    "print(h, 'hours', m, 'minutes', s, 'seconds = ', t, 'seconds')"
   ]
  },
  {
   "cell_type": "code",
   "execution_count": 62,
   "metadata": {},
   "outputs": [
    {
     "name": "stdout",
     "output_type": "stream",
     "text": [
      "3661\n"
     ]
    }
   ],
   "source": [
    "def seconds(h,m,s):\n",
    "    total = 3600*h + 60*m + s\n",
    "    return(total)     \n",
    "    \n",
    "print(seconds(1,1,1))"
   ]
  },
  {
   "cell_type": "code",
   "execution_count": null,
   "metadata": {},
   "outputs": [],
   "source": [
    "## Write a Python program to get an absolute file path"
   ]
  },
  {
   "cell_type": "code",
   "execution_count": 64,
   "metadata": {},
   "outputs": [
    {
     "data": {
      "text/plain": [
       "'C:\\\\Users\\\\orhna\\\\Desktop\\\\Python_exercises\\\\mydir\\\\myfile.txt'"
      ]
     },
     "execution_count": 64,
     "metadata": {},
     "output_type": "execute_result"
    }
   ],
   "source": [
    "import os\n",
    "\n",
    "os.path.abspath(\"mydir/myfile.txt\")"
   ]
  },
  {
   "cell_type": "code",
   "execution_count": null,
   "metadata": {},
   "outputs": [],
   "source": []
  },
  {
   "cell_type": "code",
   "execution_count": null,
   "metadata": {},
   "outputs": [],
   "source": [
    "## Write a Python program to convert seconds to day, hour, minutes and seconds"
   ]
  },
  {
   "cell_type": "code",
   "execution_count": 84,
   "metadata": {},
   "outputs": [
    {
     "name": "stdin",
     "output_type": "stream",
     "text": [
      "Input seconds: 1234565\n"
     ]
    },
    {
     "name": "stdout",
     "output_type": "stream",
     "text": [
      "1234565 seconds = 14 days 6 hours 56 minutes 5 seconds\n"
     ]
    }
   ],
   "source": [
    "s = int(input('Input seconds:'))\n",
    "d = int(s/(3600*24))\n",
    "z = s%(3600*24)\n",
    "h = int(z/3600)\n",
    "x = z%3600\n",
    "m = int(x/60)\n",
    "y = x%60\n",
    "print(s, 'seconds =',d, \"days\", h, 'hours', m, 'minutes', y, 'seconds')"
   ]
  },
  {
   "cell_type": "code",
   "execution_count": null,
   "metadata": {},
   "outputs": [],
   "source": []
  },
  {
   "cell_type": "code",
   "execution_count": null,
   "metadata": {},
   "outputs": [],
   "source": [
    "## Write a Python program to calculate body mass index"
   ]
  },
  {
   "cell_type": "code",
   "execution_count": 96,
   "metadata": {},
   "outputs": [
    {
     "name": "stdin",
     "output_type": "stream",
     "text": [
      "Input your lenght \"m\": 1.89\n",
      "Input your weight \"kg\": 78\n"
     ]
    },
    {
     "name": "stdout",
     "output_type": "stream",
     "text": [
      "BMI = 21.83589485176787\n",
      "you are in the healthy weight range\n"
     ]
    }
   ],
   "source": [
    "height = float(input('Input your lenght \"m\":'))\n",
    "weight = float(input('Input your weight \"kg\":'))\n",
    "BMI = float(weight/height**2)\n",
    "print('BMI =', BMI)\n",
    "\n",
    "if BMI < 18.5: \n",
    "    print('you are in the underweight range')\n",
    "elif 18.5 < BMI < 24.9: \n",
    "    print('you are in the healthy weight range')\n",
    "elif 25 < BMI < 29.9: \n",
    "    print('you are in the in the overweight range')\n",
    "elif 30 < BMI < 39.9: \n",
    "    print('you are in obese range')\n",
    "    "
   ]
  },
  {
   "cell_type": "code",
   "execution_count": null,
   "metadata": {},
   "outputs": [],
   "source": [
    "## Write a Python program to calculate the sum of the digits in an integer."
   ]
  },
  {
   "cell_type": "code",
   "execution_count": 107,
   "metadata": {},
   "outputs": [
    {
     "name": "stdin",
     "output_type": "stream",
     "text": [
      "input a number = 67\n"
     ]
    },
    {
     "name": "stdout",
     "output_type": "stream",
     "text": [
      "13\n"
     ]
    }
   ],
   "source": [
    "a = int(input('input a number ='))\n",
    "\n",
    "sum_of_digits = 0\n",
    "for i in str(a):\n",
    "    \n",
    "    sum_of_digits += int(i)\n",
    "    \n",
    "print(sum_of_digits)\n"
   ]
  },
  {
   "cell_type": "code",
   "execution_count": null,
   "metadata": {},
   "outputs": [],
   "source": [
    "## Write a Python program to sort three integers without using conditional statements and loops."
   ]
  },
  {
   "cell_type": "code",
   "execution_count": 113,
   "metadata": {},
   "outputs": [
    {
     "name": "stdin",
     "output_type": "stream",
     "text": [
      "input a first number = 5\n",
      "input a second number = 9\n",
      "input a third number = 8\n"
     ]
    },
    {
     "name": "stdout",
     "output_type": "stream",
     "text": [
      "Numbers in sorted order:  5 8 9\n"
     ]
    }
   ],
   "source": [
    "x = int(input('input a first number ='))\n",
    "y = int(input('input a second number ='))\n",
    "z = int(input('input a third number ='))\n",
    "\n",
    "a1 = min(x, y, z)\n",
    "a3 = max(x, y, z)\n",
    "a2 = (x + y + z) - a1 - a3\n",
    "print(\"Numbers in sorted order: \", a1, a2, a3)\n"
   ]
  },
  {
   "cell_type": "code",
   "execution_count": null,
   "metadata": {},
   "outputs": [],
   "source": [
    "## Write a Python program to get a directory listing, sorted by creation date"
   ]
  },
  {
   "cell_type": "code",
   "execution_count": 2,
   "metadata": {},
   "outputs": [
    {
     "name": "stdout",
     "output_type": "stream",
     "text": [
      "Sat Jun  6 08:53:55 2020 Python_exercises_2.ipynb\n"
     ]
    }
   ],
   "source": [
    "from stat import S_ISREG, ST_CTIME, ST_MODE\n",
    "import os, sys, time\n",
    "\n",
    "#Relative or absolute path to the directory\n",
    "dir_path = sys.argv[1] if len(sys.argv) == 2 else r'.'\n",
    "\n",
    "#all entries in the directory w/ stats\n",
    "data = (os.path.join(dir_path, fn) for fn in os.listdir(dir_path))\n",
    "data = ((os.stat(path), path) for path in data)\n",
    "\n",
    "# regular files, insert creation date\n",
    "data = ((stat[ST_CTIME], path)\n",
    "           for stat, path in data if S_ISREG(stat[ST_MODE]))\n",
    "\n",
    "for cdate, path in sorted(data):\n",
    "    print(time.ctime(cdate), os.path.basename(path))\n",
    "\t"
   ]
  },
  {
   "cell_type": "code",
   "execution_count": null,
   "metadata": {},
   "outputs": [],
   "source": [
    "##Write a Python program to get the details of math module."
   ]
  },
  {
   "cell_type": "code",
   "execution_count": 3,
   "metadata": {
    "collapsed": true,
    "jupyter": {
     "outputs_hidden": true
    }
   },
   "outputs": [
    {
     "data": {
      "text/plain": [
       "['__doc__',\n",
       " '__loader__',\n",
       " '__name__',\n",
       " '__package__',\n",
       " '__spec__',\n",
       " 'acos',\n",
       " 'acosh',\n",
       " 'asin',\n",
       " 'asinh',\n",
       " 'atan',\n",
       " 'atan2',\n",
       " 'atanh',\n",
       " 'ceil',\n",
       " 'copysign',\n",
       " 'cos',\n",
       " 'cosh',\n",
       " 'degrees',\n",
       " 'e',\n",
       " 'erf',\n",
       " 'erfc',\n",
       " 'exp',\n",
       " 'expm1',\n",
       " 'fabs',\n",
       " 'factorial',\n",
       " 'floor',\n",
       " 'fmod',\n",
       " 'frexp',\n",
       " 'fsum',\n",
       " 'gamma',\n",
       " 'gcd',\n",
       " 'hypot',\n",
       " 'inf',\n",
       " 'isclose',\n",
       " 'isfinite',\n",
       " 'isinf',\n",
       " 'isnan',\n",
       " 'ldexp',\n",
       " 'lgamma',\n",
       " 'log',\n",
       " 'log10',\n",
       " 'log1p',\n",
       " 'log2',\n",
       " 'modf',\n",
       " 'nan',\n",
       " 'pi',\n",
       " 'pow',\n",
       " 'radians',\n",
       " 'remainder',\n",
       " 'sin',\n",
       " 'sinh',\n",
       " 'sqrt',\n",
       " 'tan',\n",
       " 'tanh',\n",
       " 'tau',\n",
       " 'trunc']"
      ]
     },
     "execution_count": 3,
     "metadata": {},
     "output_type": "execute_result"
    }
   ],
   "source": [
    "import math\n",
    "dir(math)"
   ]
  },
  {
   "cell_type": "code",
   "execution_count": 7,
   "metadata": {},
   "outputs": [
    {
     "data": {
      "text/plain": [
       "3.0"
      ]
     },
     "execution_count": 7,
     "metadata": {},
     "output_type": "execute_result"
    }
   ],
   "source": [
    "math.remainder(10,7)"
   ]
  },
  {
   "cell_type": "code",
   "execution_count": null,
   "metadata": {},
   "outputs": [],
   "source": [
    "##Write a Python program to calculate midpoints of a line"
   ]
  },
  {
   "cell_type": "code",
   "execution_count": 16,
   "metadata": {},
   "outputs": [
    {
     "name": "stdout",
     "output_type": "stream",
     "text": [
      "Calculate the midpoint of a line :\n"
     ]
    },
    {
     "name": "stdin",
     "output_type": "stream",
     "text": [
      "The value of x (the first endpoint)  3\n",
      "The value of y (the first endpoint)  4\n",
      "The value of x (the first endpoint)  5\n",
      "The value of y (the first endpoint)  6\n"
     ]
    },
    {
     "name": "stdout",
     "output_type": "stream",
     "text": [
      "\n",
      "The midpoint of line is :\n",
      "The midpoint's x value is:  4.0\n",
      "The midpoint's y value is:  5.0\n",
      "\n"
     ]
    }
   ],
   "source": [
    "print('Calculate the midpoint of a line :')\n",
    "\n",
    "x1 = float(input('The value of x (the first endpoint) '))\n",
    "y1 = float(input('The value of y (the first endpoint) '))\n",
    "\n",
    "x2 = float(input('The value of x (the first endpoint) '))\n",
    "y2 = float(input('The value of y (the first endpoint) '))\n",
    "\n",
    "x_m_point = (x1 + x2)/2\n",
    "y_m_point = (y1 + y2)/2\n",
    "print();\n",
    "print(\"The midpoint of line is :\")\n",
    "print( \"The midpoint's x value is: \",x_m_point)\n",
    "print( \"The midpoint's y value is: \",y_m_point)\n",
    "print();\n"
   ]
  },
  {
   "cell_type": "code",
   "execution_count": null,
   "metadata": {},
   "outputs": [],
   "source": []
  },
  {
   "cell_type": "code",
   "execution_count": null,
   "metadata": {},
   "outputs": [],
   "source": []
  },
  {
   "cell_type": "code",
   "execution_count": null,
   "metadata": {},
   "outputs": [],
   "source": []
  },
  {
   "cell_type": "code",
   "execution_count": null,
   "metadata": {},
   "outputs": [],
   "source": []
  },
  {
   "cell_type": "code",
   "execution_count": null,
   "metadata": {},
   "outputs": [],
   "source": []
  },
  {
   "cell_type": "code",
   "execution_count": null,
   "metadata": {},
   "outputs": [],
   "source": []
  },
  {
   "cell_type": "code",
   "execution_count": null,
   "metadata": {},
   "outputs": [],
   "source": []
  }
 ],
 "metadata": {
  "kernelspec": {
   "display_name": "Python 3",
   "language": "python",
   "name": "python3"
  },
  "language_info": {
   "codemirror_mode": {
    "name": "ipython",
    "version": 3
   },
   "file_extension": ".py",
   "mimetype": "text/x-python",
   "name": "python",
   "nbconvert_exporter": "python",
   "pygments_lexer": "ipython3",
   "version": "3.7.6"
  }
 },
 "nbformat": 4,
 "nbformat_minor": 4
}
