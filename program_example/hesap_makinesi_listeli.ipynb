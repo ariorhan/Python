{
 "cells": [
  {
   "cell_type": "code",
   "execution_count": null,
   "metadata": {},
   "outputs": [
    {
     "name": "stdout",
     "output_type": "stream",
     "text": [
      "Toplama için [toplama], cikarma icin [cikarma], bolme icin [bolme], carpma icin [carpma], cikmak icin [c]\n"
     ]
    },
    {
     "name": "stdin",
     "output_type": "stream",
     "text": [
      "Yapmak istediğiniz işlemi giriniz :  toplama\n",
      "Toplanacak sayıları aralarında boşluk olacak şekilde giriniz: :  2 3 4 5 6 7 8\n"
     ]
    },
    {
     "name": "stdout",
     "output_type": "stream",
     "text": [
      "35.0\n",
      "Toplama için [toplama], cikarma icin [cikarma], bolme icin [bolme], carpma icin [carpma], cikmak icin [c]\n"
     ]
    },
    {
     "name": "stdin",
     "output_type": "stream",
     "text": [
      "Yapmak istediğiniz işlemi giriniz :  carpma\n",
      "Carpmak istediginiz sayıları aralarında boşluk olacak şekilde giriniz: :  3 4 5 6 7\n"
     ]
    },
    {
     "name": "stdout",
     "output_type": "stream",
     "text": [
      "2520.0\n",
      "Toplama için [toplama], cikarma icin [cikarma], bolme icin [bolme], carpma icin [carpma], cikmak icin [c]\n"
     ]
    }
   ],
   "source": [
    "\"\"\"\n",
    "Aralarında bosluk bırakılan birden fazla sayiyi istenilen islemlerden geciren basit hesap makinesi.\n",
    "Umut Can Kocaman - umutcan_kocaman@hotmail.com - https://umutcankocaman.wordpress.com/\n",
    "\"\"\"\n",
    "\n",
    "def hesapMakinesi():\n",
    "    while True:\n",
    "        sonuc = 0  # sonuc degiskeni her seferinde sifirlanmasi icin while dongusu icine yazdik\n",
    "        sonuc2 = 1  # carpma isleminde 0 kullanırsak sonuç her zaman 0 olacagi icin degeri 1 olan ayri bir degisken atadik\n",
    "\n",
    "        print(\"Toplama için [toplama], cikarma icin [cikarma], bolme icin [bolme], carpma icin [carpma], cikmak icin [c]\")\n",
    "        islem = input(\"Yapmak istediğiniz işlemi giriniz : \")\n",
    "\n",
    "        #toplama islemi kısmı\n",
    "        if islem == \"toplama\" or islem == \"TOPLAMA\":\n",
    "            sayilar = input(\"Toplanacak sayıları aralarında boşluk olacak şekilde giriniz: : \").split(\" \")\n",
    "            try:\n",
    "                for i in sayilar:\n",
    "                    sonuc += float(i)\n",
    "                print(sonuc)\n",
    "            except ValueError:\n",
    "                print(\"lutfen sadece sayi giriniz\")\n",
    "\n",
    "        #cikarma islemi kismi\n",
    "        elif islem == \"cikarma\" or islem == \"çıkarma\" or islem == \"CİKARMA\" or islem == \"ÇIKARMA\":\n",
    "            sayilar = input(\"Cikarilacak sayıları aralarında boşluk olacak şekilde giriniz: : \").split(\" \")\n",
    "            sayilar = [float(i) for i in sayilar]   #her bir sayiyi float tipinde listeye ekledik\n",
    "            sonuc = sayilar[0] - sayilar[1]         #ilk basta sonuc = 0 atadigimiz icin islemi normal yapsaydik 0 - i - i+1 ... olacaktı o yuzden ilk iki sayiyi for disinda hesapladik\n",
    "            try:\n",
    "                for i in range(len(sayilar)-2):\n",
    "                    sonuc = sonuc - sayilar[i+2]\n",
    "                print(sonuc)\n",
    "            except ValueError:\n",
    "                print(\"lutfen sadece sayi giriniz\")\n",
    "\n",
    "        # carrma islemi kismi\n",
    "        elif islem == \"carpma\" or islem == \"çarpma\" or islem == \"ÇARPMA\" or islem == \"CARPMA\":\n",
    "            sayilar = input(\"Carpmak istediginiz sayıları aralarında boşluk olacak şekilde giriniz: : \").split(\" \")\n",
    "            try:\n",
    "                for i in sayilar:\n",
    "                    sonuc2 *= float(i)\n",
    "                print(sonuc2)\n",
    "            except ValueError:\n",
    "                print(\"lutfen sadece sayi giriniz\")\n",
    "        \n",
    "        # bolme islemi kismi\n",
    "        elif islem == \"bolme\" or islem == \"bölme\" or islem == \"BOLME\" or islem == \"BÖLME\":\n",
    "            sayilar = input(\"Bolunecek sayıları aralarında boşluk olacak şekilde giriniz: : \").split(\" \")\n",
    "            sayilar = [float(i) for i in sayilar]   #tum sayilari float tipine cevirip listeye ekledik\n",
    "            try:\n",
    "                sonuc = sayilar[0] / sayilar[1]     #ilk iki sayinin sonucunu bularak ilk islemi manuel yaptik geri kalanlari for ile yaptik\n",
    "                del sayilar[:2]                     #manuel hesapladigimiz ilk iki sayiyi tekrar hesaplamamasi icin sildik\n",
    "                for i in range(len(sayilar)):\n",
    "                    sonuc = sonuc / sayilar[i]\n",
    "                print(sonuc)\n",
    "            except ValueError:\n",
    "                print(\"lutfen sadece sayi giriniz\")\n",
    "            except ZeroDivisionError:\n",
    "                print(\"lutfen '0' sayisini bolmeye calismayiniz\")\n",
    "\n",
    "        elif islem == \"c\" or islem == \"C\" or islem == \"ç\" or islem == \"Ç\" or islem == \"cik\" or islem == \"çık\":\n",
    "            print(\"Programdan cikiliyor...\")\n",
    "            break\n",
    "\n",
    "        else:\n",
    "            print(\"Gecersiz bir islem adi giriniz.\")\n",
    "\n",
    "hesapMakinesi()"
   ]
  },
  {
   "cell_type": "code",
   "execution_count": null,
   "metadata": {},
   "outputs": [],
   "source": []
  }
 ],
 "metadata": {
  "kernelspec": {
   "display_name": "Python 3",
   "language": "python",
   "name": "python3"
  },
  "language_info": {
   "codemirror_mode": {
    "name": "ipython",
    "version": 3
   },
   "file_extension": ".py",
   "mimetype": "text/x-python",
   "name": "python",
   "nbconvert_exporter": "python",
   "pygments_lexer": "ipython3",
   "version": "3.7.6"
  }
 },
 "nbformat": 4,
 "nbformat_minor": 4
}
