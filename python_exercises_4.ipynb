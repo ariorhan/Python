{
 "cells": [
  {
   "cell_type": "code",
   "execution_count": null,
   "metadata": {},
   "outputs": [],
   "source": [
    "## Write a Python program to calculate the length of a string"
   ]
  },
  {
   "cell_type": "code",
   "execution_count": 2,
   "metadata": {},
   "outputs": [
    {
     "name": "stdout",
     "output_type": "stream",
     "text": [
      "11\n",
      "\n"
     ]
    }
   ],
   "source": [
    "a = 'hello world'\n",
    "print(len(a))\n",
    "print()"
   ]
  },
  {
   "cell_type": "code",
   "execution_count": null,
   "metadata": {},
   "outputs": [],
   "source": [
    "## Write a Python program to count the number of characters (character frequency) in a string"
   ]
  },
  {
   "cell_type": "code",
   "execution_count": 9,
   "metadata": {},
   "outputs": [
    {
     "name": "stdout",
     "output_type": "stream",
     "text": [
      "{'g': 2, 'o': 3, 'l': 1, 'e': 1, '.': 1, 'c': 1, 'm': 1}\n"
     ]
    }
   ],
   "source": [
    "def char_frequency(str1):\n",
    "    dict = {}\n",
    "    for n in str1:\n",
    "        keys = dict.keys()\n",
    "        if n in keys:\n",
    "            dict[n] += 1\n",
    "        else:\n",
    "            dict[n] = 1\n",
    "    return dict\n",
    "print(char_frequency('google.com'))"
   ]
  },
  {
   "cell_type": "code",
   "execution_count": null,
   "metadata": {},
   "outputs": [],
   "source": []
  },
  {
   "cell_type": "code",
   "execution_count": null,
   "metadata": {},
   "outputs": [],
   "source": [
    "## Write a Python program to get a string made of the first 2 and the last 2 chars from a given a string. \n",
    "## If the string length is less than 2, return instead of the empty string."
   ]
  },
  {
   "cell_type": "code",
   "execution_count": 35,
   "metadata": {},
   "outputs": [
    {
     "name": "stdin",
     "output_type": "stream",
     "text": [
      "input a word:  w3resource\n"
     ]
    },
    {
     "name": "stdout",
     "output_type": "stream",
     "text": [
      "w3ce\n"
     ]
    }
   ],
   "source": [
    "x = input('input a word: ')\n",
    "y = list(x)\n",
    "\n",
    "if len(x) > 2:\n",
    "    print(''.join(y[0:2] + y[-2:]))\n",
    "elif len(x) == 2:\n",
    "    print(''.join(y[0:2]*2))\n",
    "else:\n",
    "    print('empty')\n"
   ]
  },
  {
   "cell_type": "code",
   "execution_count": null,
   "metadata": {},
   "outputs": [],
   "source": [
    "## Another_solve"
   ]
  },
  {
   "cell_type": "code",
   "execution_count": 24,
   "metadata": {},
   "outputs": [
    {
     "name": "stdout",
     "output_type": "stream",
     "text": [
      "w3ce\n",
      "w3w3\n",
      "\n"
     ]
    }
   ],
   "source": [
    "def string_both_ends(str):\n",
    "  if len(str) < 2:\n",
    "    return ''\n",
    "\n",
    "  return str[0:2] + str[-2:]\n",
    "\n",
    "print(string_both_ends('w3resource'))\n",
    "print(string_both_ends('w3'))\n",
    "print(string_both_ends('w'))\n"
   ]
  },
  {
   "cell_type": "code",
   "execution_count": null,
   "metadata": {},
   "outputs": [],
   "source": [
    "## Write a Python program to get a string from a given string where all occurrences of its first char have been changed to '$',\n",
    "## except the first char itself.\n",
    "## Sample String : 'restart' Expected Result : 'resta$t'"
   ]
  },
  {
   "cell_type": "code",
   "execution_count": 49,
   "metadata": {},
   "outputs": [
    {
     "name": "stdout",
     "output_type": "stream",
     "text": [
      "resta$t$es\n"
     ]
    }
   ],
   "source": [
    "def change_char(str1):\n",
    "    x = str1[0]\n",
    "    str1 = str1.replace(x, \"$\")\n",
    "    str1 = x + str1[1:]\n",
    "    \n",
    "    return str1    \n",
    "    \n",
    "print(change_char('restartres'))     "
   ]
  },
  {
   "cell_type": "code",
   "execution_count": null,
   "metadata": {},
   "outputs": [],
   "source": []
  },
  {
   "cell_type": "code",
   "execution_count": null,
   "metadata": {},
   "outputs": [],
   "source": [
    "## Write a Python program to get a single string from two given strings, \n",
    "## separated by a space and swap the first two characters of each string.\n",
    "## Sample String : 'abc', 'xyz' Expected Result : 'xyc abz'"
   ]
  },
  {
   "cell_type": "code",
   "execution_count": 72,
   "metadata": {},
   "outputs": [
    {
     "name": "stdout",
     "output_type": "stream",
     "text": [
      "xyc abz\n"
     ]
    }
   ],
   "source": [
    "def swap(str1, str2):\n",
    "    new_str1 = str2[0:2] + str1[-1]\n",
    "    new_str2 = str1[0:2] + str2[-1]\n",
    "    return new_str1 + ' ' + new_str2 \n",
    "\n",
    "print(swap('abc','xyz'))"
   ]
  },
  {
   "cell_type": "code",
   "execution_count": null,
   "metadata": {},
   "outputs": [],
   "source": []
  },
  {
   "cell_type": "code",
   "execution_count": null,
   "metadata": {},
   "outputs": [],
   "source": [
    "##  Write a Python program to add 'ing' at the end of a given string (length should be at least 3). If the given string already ends with 'ing' then add 'ly' instead. If the string length of the given string is less than 3, leave it unchanged"
   ]
  },
  {
   "cell_type": "code",
   "execution_count": 89,
   "metadata": {},
   "outputs": [
    {
     "name": "stdout",
     "output_type": "stream",
     "text": [
      "ab\n",
      "abcing\n",
      "None\n"
     ]
    }
   ],
   "source": [
    "def ing_str(str1):\n",
    "    \n",
    "    if len(str1) < 3:\n",
    "        return str1\n",
    "    elif str('ing') == str1[-3:]:\n",
    "         return str1 + 'ly'\n",
    "    else:\n",
    "        return str1 + 'ing'\n",
    "\n",
    "print(ing_str('ab'))\n",
    "print(ing_str('abc'))\n",
    "print(ing_str('string'))"
   ]
  },
  {
   "cell_type": "code",
   "execution_count": 82,
   "metadata": {},
   "outputs": [],
   "source": [
    "## Another "
   ]
  },
  {
   "cell_type": "code",
   "execution_count": 83,
   "metadata": {},
   "outputs": [
    {
     "name": "stdout",
     "output_type": "stream",
     "text": [
      "ab\n",
      "abcing\n",
      "stringly\n"
     ]
    }
   ],
   "source": [
    "def add_string(str1):\n",
    "  length = len(str1)\n",
    "\n",
    "  if length > 2:\n",
    "    if str1[-3:] == 'ing':\n",
    "      str1 += 'ly'\n",
    "    else:\n",
    "      str1 += 'ing'\n",
    "\n",
    "  return str1\n",
    "print(add_string('ab'))\n",
    "print(add_string('abc'))\n",
    "print(add_string('string'))"
   ]
  },
  {
   "cell_type": "code",
   "execution_count": null,
   "metadata": {},
   "outputs": [],
   "source": []
  },
  {
   "cell_type": "code",
   "execution_count": null,
   "metadata": {},
   "outputs": [],
   "source": [
    "## Write a Python program to find the first appearance of the substring 'not' and 'poor' from a given string, if 'not' follows the 'poor', replace the whole 'not'...'poor' substring with 'good'. Return the resulting string."
   ]
  },
  {
   "cell_type": "code",
   "execution_count": 107,
   "metadata": {},
   "outputs": [],
   "source": [
    "## find "
   ]
  },
  {
   "cell_type": "code",
   "execution_count": 106,
   "metadata": {},
   "outputs": [
    {
     "name": "stdout",
     "output_type": "stream",
     "text": [
      "18\n"
     ]
    }
   ],
   "source": [
    "x = 'The lyrics is not poor!'\n",
    "a = x.find('poor')\n",
    "print(a)"
   ]
  },
  {
   "cell_type": "code",
   "execution_count": 100,
   "metadata": {},
   "outputs": [
    {
     "name": "stdout",
     "output_type": "stream",
     "text": [
      "The lyrics is good!\n",
      "The lyrics is poor!\n"
     ]
    }
   ],
   "source": [
    "def not_poor(str1):\n",
    "  snot = str1.find('not')\n",
    "  spoor = str1.find('poor')\n",
    "  \n",
    "\n",
    "  if spoor > snot and snot>0 and spoor>0:\n",
    "    str1 = str1.replace(str1[snot:(spoor+4)], 'good')\n",
    "    return str1\n",
    "  else:\n",
    "    return str1\n",
    "\n",
    "print(not_poor('The lyrics is not poor!'))\n",
    "print(not_poor('The lyrics is poor!'))"
   ]
  },
  {
   "cell_type": "code",
   "execution_count": null,
   "metadata": {},
   "outputs": [],
   "source": [
    "## Write a Python function that takes a list of words and returns the length of the longest one."
   ]
  },
  {
   "cell_type": "code",
   "execution_count": 127,
   "metadata": {},
   "outputs": [
    {
     "name": "stdout",
     "output_type": "stream",
     "text": [
      "Exercises\n"
     ]
    }
   ],
   "source": [
    "def find_longest_word(words_list):\n",
    "    word_len = []\n",
    "    for n in words_list:\n",
    "        word_len.append((len(n), n))\n",
    "    word_len.sort()\n",
    "    return word_len[-1][1]\n",
    "\n",
    "print(find_longest_word([\"PHP\", \"Exercises\", \"Backend\"]))\n"
   ]
  },
  {
   "cell_type": "code",
   "execution_count": null,
   "metadata": {},
   "outputs": [],
   "source": []
  },
  {
   "cell_type": "code",
   "execution_count": null,
   "metadata": {},
   "outputs": [],
   "source": []
  },
  {
   "cell_type": "code",
   "execution_count": null,
   "metadata": {},
   "outputs": [],
   "source": []
  },
  {
   "cell_type": "code",
   "execution_count": null,
   "metadata": {},
   "outputs": [],
   "source": []
  },
  {
   "cell_type": "code",
   "execution_count": null,
   "metadata": {},
   "outputs": [],
   "source": []
  },
  {
   "cell_type": "code",
   "execution_count": null,
   "metadata": {},
   "outputs": [],
   "source": []
  }
 ],
 "metadata": {
  "kernelspec": {
   "display_name": "Python 3",
   "language": "python",
   "name": "python3"
  },
  "language_info": {
   "codemirror_mode": {
    "name": "ipython",
    "version": 3
   },
   "file_extension": ".py",
   "mimetype": "text/x-python",
   "name": "python",
   "nbconvert_exporter": "python",
   "pygments_lexer": "ipython3",
   "version": "3.7.6"
  }
 },
 "nbformat": 4,
 "nbformat_minor": 4
}
